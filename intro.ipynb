{
 "cells": [
  {
   "cell_type": "markdown",
   "metadata": {},
   "source": [
    "# Welcome to the lab!\n",
    "\n",
    "I'm writing this collection of Jupyter notebooks to be used as introductory materials for new undergrads. I will assume you know enough Python (should be familiar with object-oriented programming and whatever package manager / IDE you are using) as well as the first couple of chapters of *Molecular Mechanisms of Photosynthesis*, written by Blankenship. "
   ]
  },
  {
   "cell_type": "markdown",
   "metadata": {},
   "source": [
    "# Getting Started\n",
    "## Biopython\n",
    "The main library we will use extensively outside our own is the [Biopython library](https://biopython.org). This library comes with prepackaged tools for computational biology, especially for sequencing/alignment, population genetics, and structural biology. We focus primarily on the latter. To be brutally honest, the Biopython documentation sucks (what do you expect when scientists try to be software engineers?). Part of the motivation for this was to make this transition easier.\n",
    "## PDB Files\n",
    "To help in this regard, we will also use PDB ([Protein Data Bank](https://www.rcsb.org/#Category-learn)) files. These files contain atomic structures and are mainly used for biological molecules such as DNA/RNA and proteins. Specifically, atomic coordinates (i.e., the 3D arrangement of atoms involved) and bonding information are encoded. The database itself is also a worldwide collaboration effort. \n",
    "## Goal\n",
    "**Our goal for the first tutorial is to learn how to grab data/information from PDB files using the Biopython library.**"
   ]
  },
  {
   "cell_type": "markdown",
   "metadata": {},
   "source": [
    "# The Biopython PDB Module\n",
    "\n",
    "## Reading the PDB File\n",
    "In Biopython, you read a PDB file by creating a [`PDBParser` object](https://biopython.org/docs/1.75/api/Bio.PDB.PDBParser.html) that reads (hence, \"parses\") the file. Take note on the `PERMISSIVE` argument, which allows us to build the structure even if there might be errors in the file itself. We will also use the `get_structure` method to return a [`Structure` object](https://biopython.org/docs/1.75/api/Bio.PDB.Structure.html). We will be analyzing the LHCII Complex, which you should have already read about in Blankenship's book."
   ]
  },
  {
   "cell_type": "code",
   "execution_count": null,
   "metadata": {},
   "outputs": [],
   "source": [
    "from Bio.PDB.PDBParser import PDBParser\n",
    "\n",
    "parser = PDBParser(PERMISSIVE=True)\n",
    "structure = parser.get_structure(\"LHCII\", \"irwt_trimer_opm.pdb\")"
   ]
  },
  {
   "cell_type": "markdown",
   "metadata": {},
   "source": [
    "## The `Structure` Model\n",
    "\n",
    "Structures in Biopython follow a hierarchial model, the [SMCRA (Structure Model Chain Residue Atom) architecture](https://biopython.org/DIST/docs/tutorial/Tutorial.html#sec246): \n",
    "- A structure consists of models.\n",
    "- A model consists of chains.\n",
    "- A chain consists of residues.\n",
    "- A residue consists of atoms.\n",
    "\n",
    "This is representative of the way scientists think about protein structures. We can return models/chains/residues/atoms of a [`Structure` object](https://biopython.org/docs/1.75/api/Bio.PDB.Structure.html) by using the methods `get_models`, `get_chains`, `get_residues`, and `get_atoms` (as listed in the documentation). Using these respectively returns the [`Model`](https://biopython.org/docs/1.75/api/Bio.PDB.Model.html), [`Chain`](https://biopython.org/docs/1.75/api/Bio.PDB.Chain.html), [`Residue`](https://biopython.org/docs/1.75/api/Bio.PDB.Residue.html), and [`Atom`](https://biopython.org/docs/1.75/api/Bio.PDB.Model.html) objects as an iterable by Python generators. All of these also inherit the [`Entity`](https://biopython.org/docs/1.75/api/Bio.PDB.Entity.html) class. Read the documentation and familiarize yourself with the various things you can do with each of these objects. Specifically, you should pay extra attention to the [`Atom`](https://biopython.org/docs/1.75/api/Bio.PDB.Model.html) object and the following methods:\n",
    "\n",
    "- `__sub__(self, other)`: subtract two `Atom` objects to return the distance between them.\n",
    "- `get_coord`: Return the coordinates of an atom as a [NumPy `array`](https://numpy.org/doc/stable/reference/generated/numpy.array.html).\n",
    "- `get_name`: Return the name of an atom as a string. Note that in PDB files, an atom name is usually a 4-character label with spaces at the beginning and end. However, these spaces are often left out for simplicity. For instance, in a file, an amino acid C α atom might be labeled as \".CA.\" where the dots represent spaces. When creating an atom name (and its unique identifier or atom ID), we usually remove the spaces unless doing so would create a conflict.\n",
    "\n",
    "## Homework Problem\n",
    "Try a problem out to test your understanding. I will write *a* solution below, but please attempt it first.\n",
    "\n",
    "The LHCII Complex contains a number of chlorophyll A and chlorophyll B molecules. Both of these kinds of molecules contain Mg atoms in the center of their porphyrin rings. Calculate the mean distance between the Mg atoms for every pair of chlorophylls in the structure. Use the fact that the atom name for magnesium is simply just `MG`. You may also use other libraries such as NumPy.\n"
   ]
  },
  {
   "cell_type": "markdown",
   "metadata": {},
   "source": [
    "## Solution\n",
    "\n",
    "The `for` loop for the distances relies on the summation: $$x_{\\text{mean}} = \\frac{1}{N} \\sum^{N}_{i=1} \\sum^{N}_{j > i} | x_{i} - x_{j} | $$"
   ]
  },
  {
   "cell_type": "code",
   "execution_count": 1,
   "metadata": {},
   "outputs": [
    {
     "ename": "ModuleNotFoundError",
     "evalue": "No module named 'Bio'",
     "output_type": "error",
     "traceback": [
      "\u001b[1;31m---------------------------------------------------------------------------\u001b[0m",
      "\u001b[1;31mModuleNotFoundError\u001b[0m                       Traceback (most recent call last)",
      "Cell \u001b[1;32mIn[1], line 1\u001b[0m\n\u001b[1;32m----> 1\u001b[0m \u001b[38;5;28;01mfrom\u001b[39;00m \u001b[38;5;21;01mBio\u001b[39;00m\u001b[38;5;21;01m.\u001b[39;00m\u001b[38;5;21;01mPDB\u001b[39;00m\u001b[38;5;21;01m.\u001b[39;00m\u001b[38;5;21;01mPDBParser\u001b[39;00m \u001b[38;5;28;01mimport\u001b[39;00m PDBParser\n\u001b[0;32m      2\u001b[0m \u001b[38;5;28;01mfrom\u001b[39;00m \u001b[38;5;21;01mnumpy\u001b[39;00m \u001b[38;5;28;01mimport\u001b[39;00m mean \n\u001b[0;32m      4\u001b[0m parser \u001b[38;5;241m=\u001b[39m PDBParser(PERMISSIVE\u001b[38;5;241m=\u001b[39m\u001b[38;5;28;01mTrue\u001b[39;00m)\n",
      "\u001b[1;31mModuleNotFoundError\u001b[0m: No module named 'Bio'"
     ]
    }
   ],
   "source": [
    "from Bio.PDB.PDBParser import PDBParser\n",
    "from numpy import mean \n",
    "\n",
    "parser = PDBParser(PERMISSIVE=True)\n",
    "structure = parser.get_structure(\"LHCII\", \"irwt_trimer_opm.pdb\")\n",
    "\n",
    "magnesium_atoms = []\n",
    "for atom in structure.get_atoms():\n",
    "    if atom.get_name() == \"MG\":\n",
    "        magnesium_atoms.append(atom)\n",
    "\n",
    "distances = []\n",
    "for i in range(len(magnesium_atoms)):\n",
    "    for j in range(i + 1, len(magnesium_atoms)):\n",
    "        distance = magnesium_atoms[i] - magnesium_atoms[j]\n",
    "        distances.append(distance)\n",
    "\n",
    "\n",
    "mean_distance = mean(distances)\n",
    "print(f\"{mean_distance}\")\n"
   ]
  }
 ],
 "metadata": {
  "kernelspec": {
   "display_name": "venv",
   "language": "python",
   "name": "python3"
  },
  "language_info": {
   "codemirror_mode": {
    "name": "ipython",
    "version": 3
   },
   "file_extension": ".py",
   "mimetype": "text/x-python",
   "name": "python",
   "nbconvert_exporter": "python",
   "pygments_lexer": "ipython3",
   "version": "3.11.5"
  }
 },
 "nbformat": 4,
 "nbformat_minor": 2
}
